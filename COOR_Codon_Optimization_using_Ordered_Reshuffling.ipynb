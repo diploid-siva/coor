{
  "nbformat": 4,
  "nbformat_minor": 0,
  "metadata": {
    "colab": {
      "provenance": []
    },
    "kernelspec": {
      "name": "python3",
      "display_name": "Python 3"
    },
    "language_info": {
      "name": "python"
    }
  },
  "cells": [
    {
      "cell_type": "markdown",
      "source": [
        "## Codon Optimization using Ordered Reshuffling (COOR)"
      ],
      "metadata": {
        "id": "YHsnglucRHwH"
      }
    },
    {
      "cell_type": "markdown",
      "source": [
        "In the era of protein design and synthesis, it is important to optimize codons to achieve desired protein expression—if not optimal, at least sufficient expression in an organism of interest. Nuclear-encoded ribosomal and proteasome proteins are highly translated (PMID: 22068332). At the same time, some proteins may be poorly translated, or in some cases, a few coding sequences (CDS) of pseudogenes may never get translated. Therefore, it is safe to assume that not all coding sequences are constrained to evolve for higher translation efficiency.\n",
        "\n",
        "Codon Optimization using Ordered Reshuffling (COOR) hypothesizes that proteins which are highly translated can be used for better codon optimization.\n",
        "\n",
        "**COOR - Steps**\n",
        "This tool takes a DNA coding sequence from a known protein (Protein 1), translates it into amino acids, and records which codons were used for each amino acid in the order they appear. It creates a codon database where each amino acid is linked to its list of codons in the order from the original gene. Then, when you input a new amino acid sequence (Protein 2 - for the gene to be codon optimized), the tool builds a matching DNA sequence by reusing codons from the database following the same order as the Protein 1. If an amino acid occurs more times than codons available, it loops back to the start of the list. The final output is a DNA sequence that mirrors the codon usage pattern of the original gene.\n",
        "\n",
        "**Protein 1:** It could be a protein or concatenated proteins of interest from the organism of interest\n",
        "Examples: ACTIN, TUBULIN, RNA or DNA Polymerases, Nuclear encoded ribosome or RUBISCO, proteasome subunits, CYCLINS, or any protein which you know or think might get translated better.\n",
        "\n",
        "**Protein 2:**\n",
        "Protein sequence to be codon optimized.\n",
        "\n",
        "\n"
      ],
      "metadata": {
        "id": "fXrp25VyR0ml"
      }
    },
    {
      "cell_type": "code",
      "execution_count": null,
      "metadata": {
        "id": "c3MBs6IQRCM8"
      },
      "outputs": [],
      "source": [
        "# Step 1: Input and validate DNA sequence\n",
        "def is_valid_dna(seq):\n",
        "    return all(base in 'ATGC' for base in seq.upper()) and len(seq) % 3 == 0\n",
        "\n",
        "protein1_dna = input(\"Enter coding DNA sequence of highly translated protein from your species of interest (Eg: ACTIN, Ribosome protein, TITIN, RUBISCO) (must be multiple of 3 & Paste and Enter) \").upper()\n",
        "\n",
        "while not is_valid_dna(protein1_dna):\n",
        "    print(\"❌ Invalid input. Must be only A, T, G, C and length divisible by 3.\")\n",
        "    protein1_dna = input(\"Re-enter coding DNA sequence: \").upper()\n",
        "\n",
        "print(f\"✅ DNA accepted. Length: {len(protein1_dna)}\")\n"
      ]
    },
    {
      "cell_type": "code",
      "metadata": {
        "id": "7ff684e1"
      },
      "source": [
        "!pip install biopython"
      ],
      "execution_count": null,
      "outputs": []
    },
    {
      "cell_type": "code",
      "source": [
        "# Step 2: Translate DNA to protein using standard codon table\n",
        "from Bio.Seq import Seq\n",
        "from Bio.Data import CodonTable\n",
        "\n",
        "standard_table = CodonTable.unambiguous_dna_by_name[\"Standard\"]\n",
        "protein1_aa = str(Seq(protein1_dna).translate(to_stop=False))\n",
        "\n",
        "print(f\"Translated amino acid sequence: {protein1_aa}\")"
      ],
      "metadata": {
        "id": "YLPnyS8GRIqm"
      },
      "execution_count": null,
      "outputs": []
    },
    {
      "cell_type": "code",
      "source": [
        "# Step 3 & 4: Build codon database from DNA sequence\n",
        "from collections import defaultdict\n",
        "\n",
        "codon_db = defaultdict(list)\n",
        "for i in range(0, len(protein1_dna), 3):\n",
        "    codon = protein1_dna[i:i+3]\n",
        "    aa = protein1_aa[i // 3]\n",
        "    codon_db[aa].append(codon)\n",
        "\n",
        "# Count occurrences\n",
        "codon_counts = {aa: len(codons) for aa, codons in codon_db.items()}\n",
        "\n",
        "print(\"✅ Codon database created.\")\n"
      ],
      "metadata": {
        "id": "M5wPSdgrTAM8"
      },
      "execution_count": null,
      "outputs": []
    },
    {
      "cell_type": "code",
      "source": [
        "# Step 5: Print codon database as a table\n",
        "import pandas as pd\n",
        "\n",
        "# Find max depth\n",
        "max_len = max(len(codon_db[aa]) for aa in codon_db)\n",
        "amino_acids = sorted(codon_db.keys())\n",
        "\n",
        "# Create dataframe\n",
        "df = pd.DataFrame({aa: codon_db[aa] + [\"\"] * (max_len - len(codon_db[aa])) for aa in amino_acids})\n",
        "print(\"Codon Database:\")\n",
        "display(df)\n"
      ],
      "metadata": {
        "id": "fa31B3FITFb7"
      },
      "execution_count": null,
      "outputs": []
    },
    {
      "cell_type": "code",
      "source": [
        "# Step 6: Input new amino acid sequence\n",
        "valid_aas = set(standard_table.protein_alphabet)\n",
        "protein2 = input(\"Enter single-letter amino acid sequence (Protein to be codon optimised) (Protein 2): \").upper()\n",
        "\n",
        "while not all(aa in codon_db for aa in protein2):\n",
        "    print(\"Error: Some amino acids not found in the database. Re-check or re-input.\")\n",
        "    protein2 = input(\"Re-enter Protein 2 sequence: \").upper()\n",
        "\n",
        "print(f\"✅ Protein 2 accepted: {protein2}\")\n"
      ],
      "metadata": {
        "id": "jh3Rsu2aTQwY"
      },
      "execution_count": null,
      "outputs": []
    },
    {
      "cell_type": "code",
      "source": [
        "# Step 7: Reconstruct using codons from codon_db, cycling if needed\n",
        "reconstructed_dna = []\n",
        "usage_tracker = defaultdict(int)\n",
        "\n",
        "for aa in protein2:\n",
        "    codons = codon_db[aa]\n",
        "    index = usage_tracker[aa] % len(codons)  # loop back if exceeded\n",
        "    reconstructed_dna.append(codons[index])\n",
        "    usage_tracker[aa] += 1\n",
        "\n",
        "print(f\"Codon-optimized DNA sequence (length {len(reconstructed_dna)*3}):\")\n",
        "print(\"\".join(reconstructed_dna))\n"
      ],
      "metadata": {
        "id": "Tuee3pe9Tgbb"
      },
      "execution_count": null,
      "outputs": []
    }
  ]
}